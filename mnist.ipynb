{
 "cells": [
  {
   "cell_type": "code",
   "execution_count": 1,
   "metadata": {},
   "outputs": [],
   "source": [
    "import numpy as np\n",
    "import pandas as pd\n",
    "from matplotlib import pyplot as plt"
   ]
  },
  {
   "cell_type": "code",
   "execution_count": 2,
   "metadata": {},
   "outputs": [],
   "source": [
    "data = pd.read_csv(\"./data/train.csv\")"
   ]
  },
  {
   "cell_type": "code",
   "execution_count": 3,
   "metadata": {},
   "outputs": [],
   "source": [
    "data = np.array(data)"
   ]
  },
  {
   "cell_type": "code",
   "execution_count": 4,
   "metadata": {},
   "outputs": [],
   "source": [
    "m, n = data.shape\n",
    "np.random.shuffle(data)\n",
    "\n",
    "data_dev = data[0:1000].T\n",
    "Y_dev = data_dev[0]\n",
    "X_dev = data_dev[1:n] / 255\n",
    "\n",
    "data_train = data[1000:m].T\n",
    "Y_train = data_train[0]\n",
    "X_train = data_train[1:n] / 255\n"
   ]
  },
  {
   "cell_type": "code",
   "execution_count": 5,
   "metadata": {},
   "outputs": [],
   "source": [
    "def init_params():\n",
    "    W1 = np.random.rand(10, 784) - 0.5\n",
    "    b1 = np.random.rand(10, 1) - 0.5\n",
    "    W2 = np.random.rand(10, 10) - 0.5\n",
    "    b2 = np.random.rand(10, 1) - 0.5\n",
    "    return W1, b1, W2, b2\n",
    "\n",
    "\n",
    "def ReLU(Z):\n",
    "    return np.maximum(0, Z)\n",
    "\n",
    "\n",
    "def deriv_ReLU(Z):\n",
    "    return Z > 0\n",
    "\n",
    "\n",
    "def softmax(Z):\n",
    "    exp = np.exp(Z - np.max(Z))\n",
    "    return exp / exp.sum(axis=0)\n",
    "\n",
    "\n",
    "def one_hot(Y):\n",
    "    one_hot_Y = np.zeros((Y.size, Y.max() + 1))\n",
    "    one_hot_Y[np.arange(Y.size), Y] = 1\n",
    "    return one_hot_Y.T\n",
    "\n",
    "\n",
    "def forward_prop(W1, b1, W2, b2, X):\n",
    "    Z1 = W1.dot(X) + b1\n",
    "    A1 = ReLU(Z1)\n",
    "    Z2 = W2.dot(A1) + b2\n",
    "    A2 = softmax(Z2)\n",
    "    return Z1, A1, Z2, A2\n",
    "\n",
    "\n",
    "def back_prop(Z1, A1, Z2, A2, W2, X, Y):\n",
    "    m = Y.size\n",
    "    one_hot_Y = one_hot(Y)\n",
    "    dZ2 = 2 * (A2 - one_hot_Y)\n",
    "    dW2 = 1 / m * dZ2.dot(A1.T)\n",
    "    db2 = 1 / m * np.sum(dZ2, 1)\n",
    "    dZ1 = W2.T.dot(dZ2) * deriv_ReLU(Z1)\n",
    "    dW1 = 1 / m * dZ1.dot(X.T)\n",
    "    db1 = 1 / m * np.sum(dZ1, 1)\n",
    "    return dW1, db1, dW2, db2\n",
    "\n",
    "\n",
    "def update_params(W1, b1, W2, b2, dW1, db1, dW2, db2, alpha):\n",
    "    W1 = W1 - alpha * dW1\n",
    "    b1 = b1 - alpha * np.reshape(db1, (10, 1))\n",
    "    W2 = W2 - alpha * dW2\n",
    "    b2 = b2 - alpha * np.reshape(db2, (10, 1))\n",
    "    return W1, b1, W2, b2"
   ]
  },
  {
   "cell_type": "code",
   "execution_count": 6,
   "metadata": {},
   "outputs": [],
   "source": [
    "def get_preds(A2):\n",
    "    return np.argmax(A2, 0)\n",
    "\n",
    "\n",
    "def get_accuracy(predictions, Y):\n",
    "    return np.sum(predictions == Y) / Y.size\n",
    "\n",
    "\n",
    "def gradient_descent(X, Y, iterations, alpha):\n",
    "    W1, b1, W2, b2 = init_params()\n",
    "    for i in range(iterations):\n",
    "        Z1, A1, Z2, A2 = forward_prop(W1, b1, W2, b2, X)\n",
    "        dW1, db1, dW2, db2 = back_prop(Z1, A1, Z2, A2, W2, X, Y)\n",
    "        W1, b1, W2, b2 = update_params(\n",
    "            W1, b1, W2, b2, dW1, db1, dW2, db2, alpha)\n",
    "        if i % 10 == 0:\n",
    "            print(\"Iteration: \", i)\n",
    "            print(\"Accuracy: \", get_accuracy(get_preds(A2), Y))\n",
    "    return W1, b1, W2, b2\n"
   ]
  },
  {
   "cell_type": "code",
   "execution_count": 7,
   "metadata": {},
   "outputs": [
    {
     "name": "stdout",
     "output_type": "stream",
     "text": [
      "Iteration:  0\n",
      "Accuracy:  0.11714634146341464\n",
      "Iteration:  10\n",
      "Accuracy:  0.33119512195121953\n",
      "Iteration:  20\n",
      "Accuracy:  0.49317073170731707\n",
      "Iteration:  30\n",
      "Accuracy:  0.6015121951219512\n",
      "Iteration:  40\n",
      "Accuracy:  0.6586585365853659\n",
      "Iteration:  50\n",
      "Accuracy:  0.704170731707317\n",
      "Iteration:  60\n",
      "Accuracy:  0.734609756097561\n",
      "Iteration:  70\n",
      "Accuracy:  0.7452439024390244\n",
      "Iteration:  80\n",
      "Accuracy:  0.779609756097561\n",
      "Iteration:  90\n",
      "Accuracy:  0.7948048780487805\n",
      "Iteration:  100\n",
      "Accuracy:  0.8048048780487805\n",
      "Iteration:  110\n",
      "Accuracy:  0.8168536585365853\n",
      "Iteration:  120\n",
      "Accuracy:  0.8267560975609756\n",
      "Iteration:  130\n",
      "Accuracy:  0.8337073170731707\n",
      "Iteration:  140\n",
      "Accuracy:  0.8390243902439024\n",
      "Iteration:  150\n",
      "Accuracy:  0.8436585365853658\n",
      "Iteration:  160\n",
      "Accuracy:  0.8493414634146341\n",
      "Iteration:  170\n",
      "Accuracy:  0.8537560975609756\n",
      "Iteration:  180\n",
      "Accuracy:  0.8575609756097561\n",
      "Iteration:  190\n",
      "Accuracy:  0.8602439024390244\n",
      "Iteration:  200\n",
      "Accuracy:  0.8624390243902439\n",
      "Iteration:  210\n",
      "Accuracy:  0.8648780487804878\n",
      "Iteration:  220\n",
      "Accuracy:  0.8678292682926829\n",
      "Iteration:  230\n",
      "Accuracy:  0.8713658536585366\n",
      "Iteration:  240\n",
      "Accuracy:  0.8736585365853659\n",
      "Iteration:  250\n",
      "Accuracy:  0.8747317073170732\n",
      "Iteration:  260\n",
      "Accuracy:  0.8762682926829268\n",
      "Iteration:  270\n",
      "Accuracy:  0.8778048780487805\n",
      "Iteration:  280\n",
      "Accuracy:  0.8798292682926829\n",
      "Iteration:  290\n",
      "Accuracy:  0.8817073170731707\n",
      "Iteration:  300\n",
      "Accuracy:  0.8827804878048781\n",
      "Iteration:  310\n",
      "Accuracy:  0.8836585365853659\n",
      "Iteration:  320\n",
      "Accuracy:  0.8844878048780488\n",
      "Iteration:  330\n",
      "Accuracy:  0.8858780487804878\n",
      "Iteration:  340\n",
      "Accuracy:  0.887219512195122\n",
      "Iteration:  350\n",
      "Accuracy:  0.8885121951219512\n",
      "Iteration:  360\n",
      "Accuracy:  0.8892926829268293\n",
      "Iteration:  370\n",
      "Accuracy:  0.8896829268292683\n",
      "Iteration:  380\n",
      "Accuracy:  0.8904146341463415\n",
      "Iteration:  390\n",
      "Accuracy:  0.8914390243902439\n",
      "Iteration:  400\n",
      "Accuracy:  0.8925609756097561\n",
      "Iteration:  410\n",
      "Accuracy:  0.8938780487804878\n",
      "Iteration:  420\n",
      "Accuracy:  0.8948780487804878\n",
      "Iteration:  430\n",
      "Accuracy:  0.8952439024390244\n",
      "Iteration:  440\n",
      "Accuracy:  0.895219512195122\n",
      "Iteration:  450\n",
      "Accuracy:  0.8955365853658537\n",
      "Iteration:  460\n",
      "Accuracy:  0.8969268292682927\n",
      "Iteration:  470\n",
      "Accuracy:  0.8984146341463415\n",
      "Iteration:  480\n",
      "Accuracy:  0.8997804878048781\n",
      "Iteration:  490\n",
      "Accuracy:  0.9006585365853659\n"
     ]
    }
   ],
   "source": [
    "W1, b1, W2, b2 = gradient_descent(X_train, Y_train, 500, 0.2)\n"
   ]
  },
  {
   "cell_type": "code",
   "execution_count": 8,
   "metadata": {},
   "outputs": [],
   "source": [
    "def make_predictions(X, W1, b1, W2, b2):\n",
    "    _, _, _, A2 = forward_prop(W1, b1, W2, b2, X)\n",
    "    predictions = get_preds(A2)\n",
    "    return predictions\n",
    "\n",
    "\n",
    "def test_prediction(index, W1, b1, W2, b2):\n",
    "    current_image = X_train[:, index, None]\n",
    "    prediction = make_predictions(current_image, W1, b1, W2, b2)\n",
    "    label = Y_train[index]\n",
    "    print(\"Prediction: \", prediction)\n",
    "    print(\"Label: \", label)\n",
    "\n",
    "    current_image = current_image.reshape((28, 28)) * 255\n",
    "    plt.gray()\n",
    "    plt.imshow(current_image, interpolation=\"nearest\")\n",
    "    plt.show()"
   ]
  },
  {
   "cell_type": "code",
   "execution_count": 9,
   "metadata": {},
   "outputs": [
    {
     "name": "stdout",
     "output_type": "stream",
     "text": [
      "Prediction:  [2]\n",
      "Label:  2\n"
     ]
    },
    {
     "data": {
      "image/png": "[encoded data removed]",
      "text/plain": [
       "<Figure size 640x480 with 1 Axes>"
      ]
     },
     "metadata": {},
     "output_type": "display_data"
    }
   ],
   "source": [
    "test_prediction(116, W1, b1, W2, b2)"
   ]
  },
  {
   "cell_type": "code",
   "execution_count": 10,
   "metadata": {},
   "outputs": [
    {
     "data": {
      "text/plain": [
       "0.882"
      ]
     },
     "execution_count": 10,
     "metadata": {},
     "output_type": "execute_result"
    }
   ],
   "source": [
    "dev_preds = make_predictions(X_dev, W1, b1, W2, b2)\n",
    "get_accuracy(dev_preds, Y_dev)\n"
   ]
  }
 ],
 "metadata": {
  "kernelspec": {
   "display_name": "base",
   "language": "python",
   "name": "python3"
  },
  "language_info": {
   "codemirror_mode": {
    "name": "ipython",
    "version": 3
   },
   "file_extension": ".py",
   "mimetype": "text/x-python",
   "name": "python",
   "nbconvert_exporter": "python",
   "pygments_lexer": "ipython3",
   "version": "3.10.5"
  },
  "orig_nbformat": 4
 },
 "nbformat": 4,
 "nbformat_minor": 2
}
